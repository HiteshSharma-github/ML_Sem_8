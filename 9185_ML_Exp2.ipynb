{
  "nbformat": 4,
  "nbformat_minor": 0,
  "metadata": {
    "colab": {
      "provenance": []
    },
    "kernelspec": {
      "name": "python3",
      "display_name": "Python 3"
    },
    "language_info": {
      "name": "python"
    }
  },
  "cells": [
    {
      "cell_type": "code",
      "execution_count": null,
      "metadata": {
        "colab": {
          "base_uri": "https://localhost:8080/"
        },
        "id": "PftPWo7i-wx_",
        "outputId": "4024d703-5902-47be-85dc-74be1ab096fb"
      },
      "outputs": [
        {
          "output_type": "stream",
          "name": "stdout",
          "text": [
            "Mounted at /content/drive\n"
          ]
        }
      ],
      "source": [
        "from google.colab import drive\n",
        "drive.mount('/content/drive')"
      ]
    },
    {
      "cell_type": "markdown",
      "source": [
        "#**Multiple Regression**#"
      ],
      "metadata": {
        "id": "pDZHUYp-3w7D"
      }
    },
    {
      "cell_type": "code",
      "source": [
        "import pandas as pd\n",
        "import numpy as np"
      ],
      "metadata": {
        "id": "TB0t43B64dfM"
      },
      "execution_count": null,
      "outputs": []
    },
    {
      "cell_type": "code",
      "source": [
        "data = pd.read_csv('/content/drive/My Drive/Housing_Data_3_variables.csv')\n",
        "X = data[['house_size', 'number_of_bedrooms']]\n",
        "y = data['house_price']\n",
        "X = np.c_[np.ones(len(X)), X]\n",
        "\n",
        "train_size = int(0.7 * len(data))\n",
        "train_X = X[:train_size]\n",
        "train_y = y[:train_size]\n",
        "test_X = X[train_size:]\n",
        "test_y = y[train_size:]\n",
        "\n",
        "# Calculate the regression coefficients (theta)\n",
        "theta = np.linalg.inv(train_X.T.dot(train_X)).dot(train_X.T).dot(train_y)\n",
        "\n",
        "# Predict the housing prices for the test data\n",
        "pred_prices = test_X.dot(theta)\n",
        "\n",
        "# Calculate the Mean Squared Error (MSE)\n",
        "mse = np.mean((pred_prices - test_y) ** 2)\n",
        "print(f\"Mean Squared Error: {mse:.2f}\")\n"
      ],
      "metadata": {
        "colab": {
          "base_uri": "https://localhost:8080/"
        },
        "id": "ACmnj3KA8xmR",
        "outputId": "6d5ac31c-fba1-4cbd-c374-497f45ef8f19"
      },
      "execution_count": null,
      "outputs": [
        {
          "output_type": "stream",
          "name": "stdout",
          "text": [
            "Mean Squared Error: 4122186239.57\n"
          ]
        }
      ]
    },
    {
      "cell_type": "code",
      "source": [
        "data = pd.read_csv('/content/drive/My Drive/Housing_Data_3_variables.csv')\n",
        "X = data[['house_size', 'number_of_bedrooms']]\n",
        "y = data['house_price']\n",
        "X = np.c_[np.ones(len(X)), X]\n",
        "train_size = int(0.7 * len(data))\n",
        "train_X = X[:train_size]\n",
        "train_y = y[:train_size]\n",
        "test_X = X[train_size:]\n",
        "test_y = y[train_size:]\n",
        "theta = np.linalg.inv(train_X.T.dot(train_X)).dot(train_X.T).dot(train_y)\n",
        "test_data = np.array([1, 3500, 3])\n",
        "pred_price = test_data.dot(theta)\n",
        "print(f\"The predicted housing price for an area of 3500 sqft and 3 bedrooms is ${pred_price:,.2f}\")\n"
      ],
      "metadata": {
        "colab": {
          "base_uri": "https://localhost:8080/"
        },
        "id": "O2mECOhm34W3",
        "outputId": "1143dd4a-c36e-433d-9446-81fe16ea0614"
      },
      "execution_count": null,
      "outputs": [
        {
          "output_type": "stream",
          "name": "stdout",
          "text": [
            "The predicted housing price for an area of 3500 sqft and 3 bedrooms is $557,886.27\n"
          ]
        }
      ]
    },
    {
      "cell_type": "markdown",
      "source": [
        "##**Sklearn Verify Multiple Regression**##"
      ],
      "metadata": {
        "id": "7Fw-28gTB34F"
      }
    },
    {
      "cell_type": "code",
      "source": [
        "import numpy as np\n",
        "import pandas as pd\n",
        "from sklearn.linear_model import LinearRegression"
      ],
      "metadata": {
        "id": "cqfhPRlo_ns-"
      },
      "execution_count": null,
      "outputs": []
    },
    {
      "cell_type": "code",
      "source": [
        "data = pd.read_csv('/content/drive/My Drive/Housing_Data_3_variables.csv')\n",
        "X = data[['house_size', 'number_of_bedrooms']]\n",
        "y = data['house_price']\n",
        "model = LinearRegression()\n",
        "model.fit(X, y)\n",
        "test_data = np.array([[3500, 3]])\n",
        "pred_price = model.predict(test_data)\n",
        "print(f\"The predicted housing price for an area of 3500 sqft and 3 bedrooms is ${pred_price[0]:,.2f}\")"
      ],
      "metadata": {
        "colab": {
          "base_uri": "https://localhost:8080/"
        },
        "id": "jUhvstWV1CoT",
        "outputId": "3e7c6bb0-122e-4edc-a7a2-25ed9fbbb5ea"
      },
      "execution_count": null,
      "outputs": [
        {
          "output_type": "stream",
          "name": "stdout",
          "text": [
            "The predicted housing price for an area of 3500 sqft and 3 bedrooms is $550,621.21\n"
          ]
        },
        {
          "output_type": "stream",
          "name": "stderr",
          "text": [
            "/usr/local/lib/python3.10/dist-packages/sklearn/base.py:439: UserWarning: X does not have valid feature names, but LinearRegression was fitted with feature names\n",
            "  warnings.warn(\n"
          ]
        }
      ]
    },
    {
      "cell_type": "code",
      "source": [
        "data = pd.read_csv('/content/drive/My Drive/Housing_Data_3_variables.csv')\n",
        "X = data[['house_size', 'number_of_bedrooms']]\n",
        "y = data['house_price']\n",
        "model = LinearRegression()\n",
        "model.fit(X, y)\n",
        "a= int(input(\"Enter house size: \"))\n",
        "b= int(input(\"Enter no. of bedrooms: \"))\n",
        "test_data = [[a, b]]\n",
        "pred_price = model.predict(test_data)\n",
        "print(f\"The predicted housing price is ${pred_price[0]:,.2f}\")"
      ],
      "metadata": {
        "colab": {
          "base_uri": "https://localhost:8080/"
        },
        "id": "APvEOnDQnyWd",
        "outputId": "54923ee4-bc49-4691-a5e0-0b72a2c343ae"
      },
      "execution_count": null,
      "outputs": [
        {
          "output_type": "stream",
          "name": "stdout",
          "text": [
            "Enter house size: 4000\n",
            "Enter no. of bedrooms: 4\n",
            "The predicted housing price is $611,488.53\n"
          ]
        },
        {
          "output_type": "stream",
          "name": "stderr",
          "text": [
            "/usr/local/lib/python3.10/dist-packages/sklearn/base.py:439: UserWarning: X does not have valid feature names, but LinearRegression was fitted with feature names\n",
            "  warnings.warn(\n"
          ]
        }
      ]
    }
  ]
}